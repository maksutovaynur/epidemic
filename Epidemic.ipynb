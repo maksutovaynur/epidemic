{
  "nbformat": 4,
  "nbformat_minor": 0,
  "metadata": {
    "colab": {
      "name": "Epidemic.ipynb",
      "provenance": [],
      "collapsed_sections": []
    },
    "kernelspec": {
      "name": "python3",
      "display_name": "Python 3"
    },
    "language_info": {
      "name": "python"
    },
    "widgets": {
      "application/vnd.jupyter.widget-state+json": {
        "b6477998d79b4ea29c566083365fa909": {
          "model_module": "@jupyter-widgets/controls",
          "model_name": "VBoxModel",
          "state": {
            "_view_name": "VBoxView",
            "_dom_classes": [
              "widget-interact"
            ],
            "_model_name": "VBoxModel",
            "_view_module": "@jupyter-widgets/controls",
            "_model_module_version": "1.5.0",
            "_view_count": null,
            "_view_module_version": "1.5.0",
            "box_style": "",
            "layout": "IPY_MODEL_afe50efcdbe643eda501e1018405a8a4",
            "_model_module": "@jupyter-widgets/controls",
            "children": [
              "IPY_MODEL_edfe7697014c47b19b12d3c95ee162d1",
              "IPY_MODEL_d4a4917736114313a494265b6b90d8dd",
              "IPY_MODEL_4be17f15e99c4ce49726c2075fdcc0ef",
              "IPY_MODEL_7f84a7bd017a44b286c9d9f06cc5b3d3",
              "IPY_MODEL_2baf278e3dd04acbb92ace55506a24c0"
            ]
          }
        },
        "afe50efcdbe643eda501e1018405a8a4": {
          "model_module": "@jupyter-widgets/base",
          "model_name": "LayoutModel",
          "state": {
            "_view_name": "LayoutView",
            "grid_template_rows": null,
            "right": null,
            "justify_content": null,
            "_view_module": "@jupyter-widgets/base",
            "overflow": null,
            "_model_module_version": "1.2.0",
            "_view_count": null,
            "flex_flow": null,
            "width": null,
            "min_width": null,
            "border": null,
            "align_items": null,
            "bottom": null,
            "_model_module": "@jupyter-widgets/base",
            "top": null,
            "grid_column": null,
            "overflow_y": null,
            "overflow_x": null,
            "grid_auto_flow": null,
            "grid_area": null,
            "grid_template_columns": null,
            "flex": null,
            "_model_name": "LayoutModel",
            "justify_items": null,
            "grid_row": null,
            "max_height": null,
            "align_content": null,
            "visibility": null,
            "align_self": null,
            "height": null,
            "min_height": null,
            "padding": null,
            "grid_auto_rows": null,
            "grid_gap": null,
            "max_width": null,
            "order": null,
            "_view_module_version": "1.2.0",
            "grid_template_areas": null,
            "object_position": null,
            "object_fit": null,
            "grid_auto_columns": null,
            "margin": null,
            "display": null,
            "left": null
          }
        },
        "edfe7697014c47b19b12d3c95ee162d1": {
          "model_module": "@jupyter-widgets/controls",
          "model_name": "IntSliderModel",
          "state": {
            "_view_name": "IntSliderView",
            "style": "IPY_MODEL_4626134090d74a0da41195288c79431a",
            "_dom_classes": [],
            "description": "max_steps",
            "step": 1,
            "_model_name": "IntSliderModel",
            "orientation": "horizontal",
            "max": 1000,
            "_view_module": "@jupyter-widgets/controls",
            "_model_module_version": "1.5.0",
            "value": 100,
            "_view_count": null,
            "disabled": false,
            "_view_module_version": "1.5.0",
            "min": 10,
            "continuous_update": true,
            "readout_format": "d",
            "description_tooltip": null,
            "readout": true,
            "_model_module": "@jupyter-widgets/controls",
            "layout": "IPY_MODEL_108f57467abc4b62b810580f41128bd5"
          }
        },
        "d4a4917736114313a494265b6b90d8dd": {
          "model_module": "@jupyter-widgets/controls",
          "model_name": "FloatSliderModel",
          "state": {
            "_view_name": "FloatSliderView",
            "style": "IPY_MODEL_266960f23c2b41a2b35c07caa7d0f67d",
            "_dom_classes": [],
            "description": "Численность популяции (N)",
            "step": 0.01,
            "_model_name": "FloatSliderModel",
            "orientation": "horizontal",
            "max": 1000,
            "_view_module": "@jupyter-widgets/controls",
            "_model_module_version": "1.5.0",
            "value": 100,
            "_view_count": null,
            "disabled": false,
            "_view_module_version": "1.5.0",
            "min": 0,
            "continuous_update": true,
            "readout_format": ".2f",
            "description_tooltip": null,
            "readout": true,
            "_model_module": "@jupyter-widgets/controls",
            "layout": "IPY_MODEL_2c8302bb1adc4fe6b271482f02145101"
          }
        },
        "4be17f15e99c4ce49726c2075fdcc0ef": {
          "model_module": "@jupyter-widgets/controls",
          "model_name": "FloatSliderModel",
          "state": {
            "_view_name": "FloatSliderView",
            "style": "IPY_MODEL_132be1c0982246fba701d88f79e6fe6f",
            "_dom_classes": [],
            "description": "Заразность (b)",
            "step": 0.01,
            "_model_name": "FloatSliderModel",
            "orientation": "horizontal",
            "max": 1,
            "_view_module": "@jupyter-widgets/controls",
            "_model_module_version": "1.5.0",
            "value": 0.5,
            "_view_count": null,
            "disabled": false,
            "_view_module_version": "1.5.0",
            "min": 0,
            "continuous_update": true,
            "readout_format": ".2f",
            "description_tooltip": null,
            "readout": true,
            "_model_module": "@jupyter-widgets/controls",
            "layout": "IPY_MODEL_d6adf628fa3d4a32b626416296489425"
          }
        },
        "7f84a7bd017a44b286c9d9f06cc5b3d3": {
          "model_module": "@jupyter-widgets/controls",
          "model_name": "FloatSliderModel",
          "state": {
            "_view_name": "FloatSliderView",
            "style": "IPY_MODEL_7e2a43e1656b4b4ebd829dabc2445ea8",
            "_dom_classes": [],
            "description": "Интенсивность выздоровления (g)",
            "step": 0.01,
            "_model_name": "FloatSliderModel",
            "orientation": "horizontal",
            "max": 1,
            "_view_module": "@jupyter-widgets/controls",
            "_model_module_version": "1.5.0",
            "value": 0.13,
            "_view_count": null,
            "disabled": false,
            "_view_module_version": "1.5.0",
            "min": 0,
            "continuous_update": true,
            "readout_format": ".2f",
            "description_tooltip": null,
            "readout": true,
            "_model_module": "@jupyter-widgets/controls",
            "layout": "IPY_MODEL_6916574db50d40b0bcce96c5b3cb8999"
          }
        },
        "2baf278e3dd04acbb92ace55506a24c0": {
          "model_module": "@jupyter-widgets/output",
          "model_name": "OutputModel",
          "state": {
            "_view_name": "OutputView",
            "msg_id": "",
            "_dom_classes": [],
            "_model_name": "OutputModel",
            "outputs": [
              {
                "output_type": "display_data",
                "metadata": {
                  "tags": [],
                  "needs_background": "light"
                },
                "image/png": "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\n",
                "text/plain": "<Figure size 1728x648 with 1 Axes>"
              }
            ],
            "_view_module": "@jupyter-widgets/output",
            "_model_module_version": "1.0.0",
            "_view_count": null,
            "_view_module_version": "1.0.0",
            "layout": "IPY_MODEL_21308c15528d466fbc8d16c32199f95a",
            "_model_module": "@jupyter-widgets/output"
          }
        },
        "4626134090d74a0da41195288c79431a": {
          "model_module": "@jupyter-widgets/controls",
          "model_name": "SliderStyleModel",
          "state": {
            "_view_name": "StyleView",
            "handle_color": null,
            "_model_name": "SliderStyleModel",
            "description_width": "",
            "_view_module": "@jupyter-widgets/base",
            "_model_module_version": "1.5.0",
            "_view_count": null,
            "_view_module_version": "1.2.0",
            "_model_module": "@jupyter-widgets/controls"
          }
        },
        "108f57467abc4b62b810580f41128bd5": {
          "model_module": "@jupyter-widgets/base",
          "model_name": "LayoutModel",
          "state": {
            "_view_name": "LayoutView",
            "grid_template_rows": null,
            "right": null,
            "justify_content": null,
            "_view_module": "@jupyter-widgets/base",
            "overflow": null,
            "_model_module_version": "1.2.0",
            "_view_count": null,
            "flex_flow": null,
            "width": null,
            "min_width": null,
            "border": null,
            "align_items": null,
            "bottom": null,
            "_model_module": "@jupyter-widgets/base",
            "top": null,
            "grid_column": null,
            "overflow_y": null,
            "overflow_x": null,
            "grid_auto_flow": null,
            "grid_area": null,
            "grid_template_columns": null,
            "flex": null,
            "_model_name": "LayoutModel",
            "justify_items": null,
            "grid_row": null,
            "max_height": null,
            "align_content": null,
            "visibility": null,
            "align_self": null,
            "height": null,
            "min_height": null,
            "padding": null,
            "grid_auto_rows": null,
            "grid_gap": null,
            "max_width": null,
            "order": null,
            "_view_module_version": "1.2.0",
            "grid_template_areas": null,
            "object_position": null,
            "object_fit": null,
            "grid_auto_columns": null,
            "margin": null,
            "display": null,
            "left": null
          }
        },
        "266960f23c2b41a2b35c07caa7d0f67d": {
          "model_module": "@jupyter-widgets/controls",
          "model_name": "SliderStyleModel",
          "state": {
            "_view_name": "StyleView",
            "handle_color": null,
            "_model_name": "SliderStyleModel",
            "description_width": "initial",
            "_view_module": "@jupyter-widgets/base",
            "_model_module_version": "1.5.0",
            "_view_count": null,
            "_view_module_version": "1.2.0",
            "_model_module": "@jupyter-widgets/controls"
          }
        },
        "2c8302bb1adc4fe6b271482f02145101": {
          "model_module": "@jupyter-widgets/base",
          "model_name": "LayoutModel",
          "state": {
            "_view_name": "LayoutView",
            "grid_template_rows": null,
            "right": null,
            "justify_content": null,
            "_view_module": "@jupyter-widgets/base",
            "overflow": null,
            "_model_module_version": "1.2.0",
            "_view_count": null,
            "flex_flow": null,
            "width": "50%",
            "min_width": null,
            "border": null,
            "align_items": null,
            "bottom": null,
            "_model_module": "@jupyter-widgets/base",
            "top": null,
            "grid_column": null,
            "overflow_y": null,
            "overflow_x": null,
            "grid_auto_flow": null,
            "grid_area": null,
            "grid_template_columns": null,
            "flex": null,
            "_model_name": "LayoutModel",
            "justify_items": null,
            "grid_row": null,
            "max_height": null,
            "align_content": null,
            "visibility": null,
            "align_self": null,
            "height": "80px",
            "min_height": null,
            "padding": null,
            "grid_auto_rows": null,
            "grid_gap": null,
            "max_width": null,
            "order": null,
            "_view_module_version": "1.2.0",
            "grid_template_areas": null,
            "object_position": null,
            "object_fit": null,
            "grid_auto_columns": null,
            "margin": null,
            "display": null,
            "left": null
          }
        },
        "132be1c0982246fba701d88f79e6fe6f": {
          "model_module": "@jupyter-widgets/controls",
          "model_name": "SliderStyleModel",
          "state": {
            "_view_name": "StyleView",
            "handle_color": null,
            "_model_name": "SliderStyleModel",
            "description_width": "initial",
            "_view_module": "@jupyter-widgets/base",
            "_model_module_version": "1.5.0",
            "_view_count": null,
            "_view_module_version": "1.2.0",
            "_model_module": "@jupyter-widgets/controls"
          }
        },
        "d6adf628fa3d4a32b626416296489425": {
          "model_module": "@jupyter-widgets/base",
          "model_name": "LayoutModel",
          "state": {
            "_view_name": "LayoutView",
            "grid_template_rows": null,
            "right": null,
            "justify_content": null,
            "_view_module": "@jupyter-widgets/base",
            "overflow": null,
            "_model_module_version": "1.2.0",
            "_view_count": null,
            "flex_flow": null,
            "width": "50%",
            "min_width": null,
            "border": null,
            "align_items": null,
            "bottom": null,
            "_model_module": "@jupyter-widgets/base",
            "top": null,
            "grid_column": null,
            "overflow_y": null,
            "overflow_x": null,
            "grid_auto_flow": null,
            "grid_area": null,
            "grid_template_columns": null,
            "flex": null,
            "_model_name": "LayoutModel",
            "justify_items": null,
            "grid_row": null,
            "max_height": null,
            "align_content": null,
            "visibility": null,
            "align_self": null,
            "height": "80px",
            "min_height": null,
            "padding": null,
            "grid_auto_rows": null,
            "grid_gap": null,
            "max_width": null,
            "order": null,
            "_view_module_version": "1.2.0",
            "grid_template_areas": null,
            "object_position": null,
            "object_fit": null,
            "grid_auto_columns": null,
            "margin": null,
            "display": null,
            "left": null
          }
        },
        "7e2a43e1656b4b4ebd829dabc2445ea8": {
          "model_module": "@jupyter-widgets/controls",
          "model_name": "SliderStyleModel",
          "state": {
            "_view_name": "StyleView",
            "handle_color": null,
            "_model_name": "SliderStyleModel",
            "description_width": "initial",
            "_view_module": "@jupyter-widgets/base",
            "_model_module_version": "1.5.0",
            "_view_count": null,
            "_view_module_version": "1.2.0",
            "_model_module": "@jupyter-widgets/controls"
          }
        },
        "6916574db50d40b0bcce96c5b3cb8999": {
          "model_module": "@jupyter-widgets/base",
          "model_name": "LayoutModel",
          "state": {
            "_view_name": "LayoutView",
            "grid_template_rows": null,
            "right": null,
            "justify_content": null,
            "_view_module": "@jupyter-widgets/base",
            "overflow": null,
            "_model_module_version": "1.2.0",
            "_view_count": null,
            "flex_flow": null,
            "width": "50%",
            "min_width": null,
            "border": null,
            "align_items": null,
            "bottom": null,
            "_model_module": "@jupyter-widgets/base",
            "top": null,
            "grid_column": null,
            "overflow_y": null,
            "overflow_x": null,
            "grid_auto_flow": null,
            "grid_area": null,
            "grid_template_columns": null,
            "flex": null,
            "_model_name": "LayoutModel",
            "justify_items": null,
            "grid_row": null,
            "max_height": null,
            "align_content": null,
            "visibility": null,
            "align_self": null,
            "height": "80px",
            "min_height": null,
            "padding": null,
            "grid_auto_rows": null,
            "grid_gap": null,
            "max_width": null,
            "order": null,
            "_view_module_version": "1.2.0",
            "grid_template_areas": null,
            "object_position": null,
            "object_fit": null,
            "grid_auto_columns": null,
            "margin": null,
            "display": null,
            "left": null
          }
        },
        "21308c15528d466fbc8d16c32199f95a": {
          "model_module": "@jupyter-widgets/base",
          "model_name": "LayoutModel",
          "state": {
            "_view_name": "LayoutView",
            "grid_template_rows": null,
            "right": null,
            "justify_content": null,
            "_view_module": "@jupyter-widgets/base",
            "overflow": null,
            "_model_module_version": "1.2.0",
            "_view_count": null,
            "flex_flow": null,
            "width": null,
            "min_width": null,
            "border": null,
            "align_items": null,
            "bottom": null,
            "_model_module": "@jupyter-widgets/base",
            "top": null,
            "grid_column": null,
            "overflow_y": null,
            "overflow_x": null,
            "grid_auto_flow": null,
            "grid_area": null,
            "grid_template_columns": null,
            "flex": null,
            "_model_name": "LayoutModel",
            "justify_items": null,
            "grid_row": null,
            "max_height": null,
            "align_content": null,
            "visibility": null,
            "align_self": null,
            "height": null,
            "min_height": null,
            "padding": null,
            "grid_auto_rows": null,
            "grid_gap": null,
            "max_width": null,
            "order": null,
            "_view_module_version": "1.2.0",
            "grid_template_areas": null,
            "object_position": null,
            "object_fit": null,
            "grid_auto_columns": null,
            "margin": null,
            "display": null,
            "left": null
          }
        },
        "c2d580a8a95f469383f1373ad75cbc59": {
          "model_module": "@jupyter-widgets/controls",
          "model_name": "VBoxModel",
          "state": {
            "_view_name": "VBoxView",
            "_dom_classes": [
              "widget-interact"
            ],
            "_model_name": "VBoxModel",
            "_view_module": "@jupyter-widgets/controls",
            "_model_module_version": "1.5.0",
            "_view_count": null,
            "_view_module_version": "1.5.0",
            "box_style": "",
            "layout": "IPY_MODEL_729c9c44fd6342cbbdf7fda9ae4d49ab",
            "_model_module": "@jupyter-widgets/controls",
            "children": [
              "IPY_MODEL_fa5dc9f4a43c4462bfdf93bdd96c5480",
              "IPY_MODEL_7ace393c6d4a41bba83ed26237a1dc22"
            ]
          }
        },
        "729c9c44fd6342cbbdf7fda9ae4d49ab": {
          "model_module": "@jupyter-widgets/base",
          "model_name": "LayoutModel",
          "state": {
            "_view_name": "LayoutView",
            "grid_template_rows": null,
            "right": null,
            "justify_content": null,
            "_view_module": "@jupyter-widgets/base",
            "overflow": null,
            "_model_module_version": "1.2.0",
            "_view_count": null,
            "flex_flow": null,
            "width": null,
            "min_width": null,
            "border": null,
            "align_items": null,
            "bottom": null,
            "_model_module": "@jupyter-widgets/base",
            "top": null,
            "grid_column": null,
            "overflow_y": null,
            "overflow_x": null,
            "grid_auto_flow": null,
            "grid_area": null,
            "grid_template_columns": null,
            "flex": null,
            "_model_name": "LayoutModel",
            "justify_items": null,
            "grid_row": null,
            "max_height": null,
            "align_content": null,
            "visibility": null,
            "align_self": null,
            "height": null,
            "min_height": null,
            "padding": null,
            "grid_auto_rows": null,
            "grid_gap": null,
            "max_width": null,
            "order": null,
            "_view_module_version": "1.2.0",
            "grid_template_areas": null,
            "object_position": null,
            "object_fit": null,
            "grid_auto_columns": null,
            "margin": null,
            "display": null,
            "left": null
          }
        },
        "fa5dc9f4a43c4462bfdf93bdd96c5480": {
          "model_module": "@jupyter-widgets/controls",
          "model_name": "IntSliderModel",
          "state": {
            "_view_name": "IntSliderView",
            "style": "IPY_MODEL_c8875e126c9f4b8988ca67c9c1aa69ea",
            "_dom_classes": [],
            "description": "max_steps",
            "step": 1,
            "_model_name": "IntSliderModel",
            "orientation": "horizontal",
            "max": 1000,
            "_view_module": "@jupyter-widgets/controls",
            "_model_module_version": "1.5.0",
            "value": 100,
            "_view_count": null,
            "disabled": false,
            "_view_module_version": "1.5.0",
            "min": 10,
            "continuous_update": true,
            "readout_format": "d",
            "description_tooltip": null,
            "readout": true,
            "_model_module": "@jupyter-widgets/controls",
            "layout": "IPY_MODEL_a2ddafcf4c104d8eadc04206f9065937"
          }
        },
        "7ace393c6d4a41bba83ed26237a1dc22": {
          "model_module": "@jupyter-widgets/output",
          "model_name": "OutputModel",
          "state": {
            "_view_name": "OutputView",
            "msg_id": "",
            "_dom_classes": [],
            "_model_name": "OutputModel",
            "outputs": [
              {
                "output_type": "stream",
                "metadata": {
                  "tags": []
                },
                "text": "No handles with labels found to put in legend.\n",
                "stream": "stderr"
              },
              {
                "output_type": "display_data",
                "metadata": {
                  "tags": [],
                  "needs_background": "light"
                },
                "image/png": "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\n",
                "text/plain": "<Figure size 1728x648 with 1 Axes>"
              }
            ],
            "_view_module": "@jupyter-widgets/output",
            "_model_module_version": "1.0.0",
            "_view_count": null,
            "_view_module_version": "1.0.0",
            "layout": "IPY_MODEL_3bbd0ad86cca4bb7ac2956fed73a3b67",
            "_model_module": "@jupyter-widgets/output"
          }
        },
        "c8875e126c9f4b8988ca67c9c1aa69ea": {
          "model_module": "@jupyter-widgets/controls",
          "model_name": "SliderStyleModel",
          "state": {
            "_view_name": "StyleView",
            "handle_color": null,
            "_model_name": "SliderStyleModel",
            "description_width": "",
            "_view_module": "@jupyter-widgets/base",
            "_model_module_version": "1.5.0",
            "_view_count": null,
            "_view_module_version": "1.2.0",
            "_model_module": "@jupyter-widgets/controls"
          }
        },
        "a2ddafcf4c104d8eadc04206f9065937": {
          "model_module": "@jupyter-widgets/base",
          "model_name": "LayoutModel",
          "state": {
            "_view_name": "LayoutView",
            "grid_template_rows": null,
            "right": null,
            "justify_content": null,
            "_view_module": "@jupyter-widgets/base",
            "overflow": null,
            "_model_module_version": "1.2.0",
            "_view_count": null,
            "flex_flow": null,
            "width": null,
            "min_width": null,
            "border": null,
            "align_items": null,
            "bottom": null,
            "_model_module": "@jupyter-widgets/base",
            "top": null,
            "grid_column": null,
            "overflow_y": null,
            "overflow_x": null,
            "grid_auto_flow": null,
            "grid_area": null,
            "grid_template_columns": null,
            "flex": null,
            "_model_name": "LayoutModel",
            "justify_items": null,
            "grid_row": null,
            "max_height": null,
            "align_content": null,
            "visibility": null,
            "align_self": null,
            "height": null,
            "min_height": null,
            "padding": null,
            "grid_auto_rows": null,
            "grid_gap": null,
            "max_width": null,
            "order": null,
            "_view_module_version": "1.2.0",
            "grid_template_areas": null,
            "object_position": null,
            "object_fit": null,
            "grid_auto_columns": null,
            "margin": null,
            "display": null,
            "left": null
          }
        },
        "3bbd0ad86cca4bb7ac2956fed73a3b67": {
          "model_module": "@jupyter-widgets/base",
          "model_name": "LayoutModel",
          "state": {
            "_view_name": "LayoutView",
            "grid_template_rows": null,
            "right": null,
            "justify_content": null,
            "_view_module": "@jupyter-widgets/base",
            "overflow": null,
            "_model_module_version": "1.2.0",
            "_view_count": null,
            "flex_flow": null,
            "width": null,
            "min_width": null,
            "border": null,
            "align_items": null,
            "bottom": null,
            "_model_module": "@jupyter-widgets/base",
            "top": null,
            "grid_column": null,
            "overflow_y": null,
            "overflow_x": null,
            "grid_auto_flow": null,
            "grid_area": null,
            "grid_template_columns": null,
            "flex": null,
            "_model_name": "LayoutModel",
            "justify_items": null,
            "grid_row": null,
            "max_height": null,
            "align_content": null,
            "visibility": null,
            "align_self": null,
            "height": null,
            "min_height": null,
            "padding": null,
            "grid_auto_rows": null,
            "grid_gap": null,
            "max_width": null,
            "order": null,
            "_view_module_version": "1.2.0",
            "grid_template_areas": null,
            "object_position": null,
            "object_fit": null,
            "grid_auto_columns": null,
            "margin": null,
            "display": null,
            "left": null
          }
        }
      }
    }
  },
  "cells": [
    {
      "cell_type": "code",
      "metadata": {
        "colab": {
          "base_uri": "https://localhost:8080/",
          "height": 17
        },
        "id": "rOhWHbn3xHvM",
        "outputId": "bf43ba03-ec7e-4474-ef6f-63d5d6c93675"
      },
      "source": [
        "%matplotlib inline\n",
        "from matplotlib import pyplot as plt\n",
        "from IPython.display import display, HTML\n",
        "display(HTML('<style>.container{width: 100%}</style>'))\n",
        "from collections import namedtuple\n",
        "import ipywidgets as W\n",
        "import inspect\n",
        "\n",
        "Value = namedtuple('Value', 'type initial title other')\n",
        "\n",
        "def var(initial, title):\n",
        "  return Value('var', initial, title, None)\n",
        "\n",
        "def const(initial, min, max, title):\n",
        "  return Value('const', initial, title, (min, max))\n",
        "\n",
        "def simulate(step_function):\n",
        "  signature = inspect.signature(step_function)\n",
        "  default_args = {k: v.default for k, v in signature.parameters.items() if v.default is not inspect.Parameter.empty}\n",
        "  _vars = {k: v for k, v in default_args.items() if isinstance(v, Value) and v.type == 'var'}\n",
        "  _consts = {k: v for k, v in default_args.items() if isinstance(v, Value) and v.type == 'const'}\n",
        "\n",
        "\n",
        "  def interact_function(max_steps=1000, **consts):\n",
        "    vars_now = {k: v.initial for k, v in _vars.items()}\n",
        "    datas = {k: [vars_now[k]] for k, v in _vars.items()}\n",
        "    for i in range(max_steps):\n",
        "      vars_new = step_function(**vars_now, **consts)\n",
        "      vars_now = {k[1:]: v for k, v in vars_new.items() if k.startswith('_')}\n",
        "      for k, v in vars_now.items():\n",
        "        datas[k].append(v)\n",
        "    X = list(range(max_steps + 1))\n",
        "    plt.figure(figsize=(24, 9))\n",
        "    for k, v in datas.items():\n",
        "      plt.plot(X, v, label=_vars[k].title)\n",
        "    plt.xlabel('Число дней')\n",
        "    plt.ylabel('Значение')\n",
        "    plt.legend()\n",
        "    plt.show()\n",
        "  return W.interact(interact_function, max_steps=W.IntSlider(value=100, min=10, max=1000, title='Длительность симуляции (дней)'), \n",
        "                    **{k: W.FloatSlider(\n",
        "                        value=v.initial, min=v.other[0], max=v.other[1], step=0.01,\n",
        "                        description=f'{v.title} ({k})', layout=W.Layout(width='50%', height='80px'),\n",
        "                        style = {'width': 300, 'description_width': 'initial'}) for k, v in _consts.items()}, )\n"
      ],
      "execution_count": 44,
      "outputs": [
        {
          "output_type": "display_data",
          "data": {
            "text/html": [
              "<style>.container{width: 100%}</style>"
            ],
            "text/plain": [
              "<IPython.core.display.HTML object>"
            ]
          },
          "metadata": {
            "tags": []
          }
        }
      ]
    },
    {
      "cell_type": "code",
      "metadata": {
        "colab": {
          "base_uri": "https://localhost:8080/",
          "height": 853,
          "referenced_widgets": [
            "b6477998d79b4ea29c566083365fa909",
            "afe50efcdbe643eda501e1018405a8a4",
            "edfe7697014c47b19b12d3c95ee162d1",
            "d4a4917736114313a494265b6b90d8dd",
            "4be17f15e99c4ce49726c2075fdcc0ef",
            "7f84a7bd017a44b286c9d9f06cc5b3d3",
            "2baf278e3dd04acbb92ace55506a24c0",
            "4626134090d74a0da41195288c79431a",
            "108f57467abc4b62b810580f41128bd5",
            "266960f23c2b41a2b35c07caa7d0f67d",
            "2c8302bb1adc4fe6b271482f02145101",
            "132be1c0982246fba701d88f79e6fe6f",
            "d6adf628fa3d4a32b626416296489425",
            "7e2a43e1656b4b4ebd829dabc2445ea8",
            "6916574db50d40b0bcce96c5b3cb8999",
            "21308c15528d466fbc8d16c32199f95a"
          ]
        },
        "id": "U1lUPuCkxMKI",
        "outputId": "095511a0-bb22-4383-acbf-98ba1a471f79"
      },
      "source": [
        "def epidemic(\n",
        "    S=var(100, 'Восприимчивые'), \n",
        "    I=var(1, 'Инфицированные'), \n",
        "    R=var(0, 'Выздоровевшие'), \n",
        "    N=const(100, 0, 1000, 'Численность популяции'), \n",
        "    b=const(0.5, 0, 1, 'Заразность'),\n",
        "    g=const(0.1, 0, 1, 'Интенсивность выздоровления'),\n",
        "  ):\n",
        "  return dict(\n",
        "      _S = S - b * S * I / N,\n",
        "      _I = I + b * S * I / N - g * I,\n",
        "      _R = R + g * I,\n",
        "  )\n",
        "\n",
        "simulate(epidemic)"
      ],
      "execution_count": 45,
      "outputs": [
        {
          "output_type": "display_data",
          "data": {
            "application/vnd.jupyter.widget-view+json": {
              "model_id": "b6477998d79b4ea29c566083365fa909",
              "version_minor": 0,
              "version_major": 2
            },
            "text/plain": [
              "interactive(children=(IntSlider(value=100, description='max_steps', max=1000, min=10), FloatSlider(value=100.0…"
            ]
          },
          "metadata": {
            "tags": []
          }
        },
        {
          "output_type": "execute_result",
          "data": {
            "text/plain": [
              "<function __main__.simulate.<locals>.interact_function>"
            ]
          },
          "metadata": {
            "tags": []
          },
          "execution_count": 45
        }
      ]
    },
    {
      "cell_type": "code",
      "metadata": {
        "colab": {
          "base_uri": "https://localhost:8080/",
          "height": 623,
          "referenced_widgets": [
            "c2d580a8a95f469383f1373ad75cbc59",
            "729c9c44fd6342cbbdf7fda9ae4d49ab",
            "fa5dc9f4a43c4462bfdf93bdd96c5480",
            "7ace393c6d4a41bba83ed26237a1dc22",
            "c8875e126c9f4b8988ca67c9c1aa69ea",
            "a2ddafcf4c104d8eadc04206f9065937",
            "3bbd0ad86cca4bb7ac2956fed73a3b67"
          ]
        },
        "id": "rWQTMzl3HT5r",
        "outputId": "a2289ae3-d50c-4ea6-f276-0b250037837e"
      },
      "source": [
        "def epidemic(\n",
        "    ## Делаем следующий эксперимент по аналогии:\n",
        "    ## X = var(значение, 'название')\n",
        "    ## C = const(значение, минимум, максимум, 'название')\n",
        "\n",
        "  ):\n",
        "  return dict(\n",
        "      ## Здесь устанавливаем значение в следующий день \n",
        "      ## _X = X + 2 \n",
        "  )\n",
        "\n",
        "simulate(epidemic)"
      ],
      "execution_count": 46,
      "outputs": [
        {
          "output_type": "display_data",
          "data": {
            "application/vnd.jupyter.widget-view+json": {
              "model_id": "c2d580a8a95f469383f1373ad75cbc59",
              "version_minor": 0,
              "version_major": 2
            },
            "text/plain": [
              "interactive(children=(IntSlider(value=100, description='max_steps', max=1000, min=10), Output()), _dom_classes…"
            ]
          },
          "metadata": {
            "tags": []
          }
        },
        {
          "output_type": "execute_result",
          "data": {
            "text/plain": [
              "<function __main__.simulate.<locals>.interact_function>"
            ]
          },
          "metadata": {
            "tags": []
          },
          "execution_count": 46
        }
      ]
    },
    {
      "cell_type": "code",
      "metadata": {
        "id": "X3Qcu8qEUOK3"
      },
      "source": [
        ""
      ],
      "execution_count": null,
      "outputs": []
    }
  ]
}